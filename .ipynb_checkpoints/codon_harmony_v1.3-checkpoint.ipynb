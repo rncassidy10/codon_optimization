{
 "cells": [
  {
   "cell_type": "code",
   "execution_count": 1,
   "metadata": {},
   "outputs": [
    {
     "data": {
      "text/plain": [
       "'/apps2/tk/github/codon_optimization/K0001_K0002'"
      ]
     },
     "execution_count": 1,
     "metadata": {},
     "output_type": "execute_result"
    }
   ],
   "source": [
    "import os\n",
    "\n",
    "path='./K0001_K0002/'\n",
    "\n",
    "os.chdir(path)\n",
    "os.getcwd()"
   ]
  },
  {
   "cell_type": "code",
   "execution_count": 2,
   "metadata": {},
   "outputs": [],
   "source": [
    "input_file_name = 'input_K0001_K0002.fasta'\n",
    "output_file_name = 'output_K0001_K0002.fasta'"
   ]
  },
  {
   "cell_type": "code",
   "execution_count": 3,
   "metadata": {},
   "outputs": [
    {
     "data": {
      "text/plain": [
       "'codon_harmony --input input_K0001_K0002.fasta --output output_K0001_K0002.fasta --host 9606 --verbose 1 --remove-splice-sites --no-remove-start-sites --cycles 10 --max-relax 0.2'"
      ]
     },
     "execution_count": 3,
     "metadata": {},
     "output_type": "execute_result"
    }
   ],
   "source": [
    "codon_harmony_cmd = \"codon_harmony --input \" + input_file_name + \" --output \" \\\n",
    "+ output_file_name + \" --host 9606 --verbose 1 --remove-splice-sites --no-remove-start-sites \\\n",
    "--cycles 10 --max-relax 0.2\"\n",
    "codon_harmony_cmd"
   ]
  },
  {
   "cell_type": "code",
   "execution_count": 4,
   "metadata": {},
   "outputs": [
    {
     "data": {
      "text/plain": [
       "0"
      ]
     },
     "execution_count": 4,
     "metadata": {},
     "output_type": "execute_result"
    }
   ],
   "source": [
    "## Run codon_harmony\n",
    "import subprocess\n",
    "process = subprocess.Popen(codon_harmony_cmd, shell=True,\n",
    "                     stdout=subprocess.PIPE, \n",
    "                     stderr=subprocess.PIPE)\n",
    "stdout, stderr = process.communicate()\n",
    "stdout, stderr\n",
    "process.wait()"
   ]
  },
  {
   "cell_type": "code",
   "execution_count": 5,
   "metadata": {},
   "outputs": [],
   "source": [
    "def check_integrity(file1,file2):\n",
    "    fasta_obj1=Fasta(file1)\n",
    "    fasta_obj2=Fasta(file2)\n",
    "    \n",
    "    TrueFalse = []\n",
    "    for line in fasta_obj1.keys():\n",
    "        integrity = fasta_obj1[line][0:].seq == Seq(fasta_obj2[line][0:].seq).translate()\n",
    "        print(fasta_obj1[line].name)\n",
    "        print(\"protein_seq == opt_dna_seq : \",integrity)\n",
    "        TrueFalse.append(integrity)\n",
    "    print('Integrity: ', TrueFalse)\n",
    "    return [i for i,x in enumerate(TrueFalse) if TrueFalse[i]==False]"
   ]
  },
  {
   "cell_type": "code",
   "execution_count": 6,
   "metadata": {},
   "outputs": [],
   "source": [
    "def check_alignment(fasta_obj1, fasta_obj2, failed_pairs):\n",
    "    \n",
    "    for failed_pair in failed_pairs:\n",
    "\n",
    "        failed_protein=fasta_obj1[failed_pair][0:].seq\n",
    "        failed_opt_dna=Seq(fasta_obj2[failed_pair][0:].seq).translate()\n",
    "        alignments = pairwise2.align.globalxx(failed_protein, failed_opt_dna)\n",
    "        print('\\n >>Failed pair: ',fasta_obj1[failed_pair].name)\n",
    "        for alignment in alignments: \n",
    "            print(format_alignment(*alignment))\n",
    "#         ## mismatch usually happens at the end of the sequence, so print the alignment result with one basepair truncated    \n",
    "#         print('\\n >>Failed pair(truncated): ',fasta_obj1[failed_pair].name)\n",
    "#         alignments = pairwise2.align.globalxx(failed_protein, failed_opt_dna[0:-1])\n",
    "#         for alignment in alignments: \n",
    "#             print(format_alignment(*alignment)) "
   ]
  },
  {
   "cell_type": "code",
   "execution_count": 7,
   "metadata": {
    "scrolled": true
   },
   "outputs": [
    {
     "name": "stdout",
     "output_type": "stream",
     "text": [
      "K0001_TMG1\n",
      "protein_seq == opt_dna_seq :  True\n",
      "K0001_TMG2\n",
      "protein_seq == opt_dna_seq :  True\n",
      "K0001_TMG3\n",
      "protein_seq == opt_dna_seq :  True\n",
      "K0001_TMG4\n",
      "protein_seq == opt_dna_seq :  True\n",
      "K0001_TMG5\n",
      "protein_seq == opt_dna_seq :  True\n",
      "K0002_TMG1\n",
      "protein_seq == opt_dna_seq :  True\n",
      "K0002_TMG2\n",
      "protein_seq == opt_dna_seq :  True\n",
      "K0002_TMG3\n",
      "protein_seq == opt_dna_seq :  True\n",
      "K0002_TMG4\n",
      "protein_seq == opt_dna_seq :  True\n",
      "K0002_TMG5\n",
      "protein_seq == opt_dna_seq :  False\n",
      "K0002_TMG6\n",
      "protein_seq == opt_dna_seq :  True\n",
      "K0002_TMG7\n",
      "protein_seq == opt_dna_seq :  True\n",
      "Integrity:  [True, True, True, True, True, True, True, True, True, False, True, True]\n",
      "\n",
      " >>Failed pair:  K0002_TMG5\n",
      "PSQDTHHTQELLVVQGSLEVDPAQAWLSRPALLVRAASHYEGAGQILIRQEKGTLDALLAGEQDPWTVSSEGVHTPPGSLARSSSLCCSRRSIVPSSPQPMDAVRIMAKDLVLTRRYVRKFVLMRYTWRNVAERTEKAYDRVSVEAVLPMSKIVRVLNLWQKKWSVQNRSLCAVKFLRLEDFSPQRDRFQAEGSLKKTSRILNLQALSALFIWPQHSYKSPQRDRFQAEGSLKKTSRILNLQVLKKILRSFMKLYHSLVMCLRLRTKLEKALSALFIWPQHSYKTASAFFAKARATFLVPRREGSRGFEEKCRLGIRLVQFERLRPVNQNKTVKKKYLLCANKIGIVPQDHVFFFWRGKSNCVKEVEKLQENERKGDCNSKNLEKKEPRTLMLQTQIMKL-CV\n",
      "|||||||||||||||||||||||||||||||||||||||||||||||||||||||||||||||||||||||||||||||||||||||||||||||||||||||||||||||||||||||||||||||||||||||||||||||||||||||||||||||||||||||||||||||||||||||||||||||||||||||||||||||||||||||||||||||||||||||||||||||||||||||||||||||||||||||||||||||||||||||||||||||||||||||||||||||||||||||||||||||||||||||||||||||||||||||||||||||||||||||||||||||||||||||||||||||||||||||||||||||| ||\n",
      "PSQDTHHTQELLVVQGSLEVDPAQAWLSRPALLVRAASHYEGAGQILIRQEKGTLDALLAGEQDPWTVSSEGVHTPPGSLARSSSLCCSRRSIVPSSPQPMDAVRIMAKDLVLTRRYVRKFVLMRYTWRNVAERTEKAYDRVSVEAVLPMSKIVRVLNLWQKKWSVQNRSLCAVKFLRLEDFSPQRDRFQAEGSLKKTSRILNLQALSALFIWPQHSYKSPQRDRFQAEGSLKKTSRILNLQVLKKILRSFMKLYHSLVMCLRLRTKLEKALSALFIWPQHSYKTASAFFAKARATFLVPRREGSRGFEEKCRLGIRLVQFERLRPVNQNKTVKKKYLLCANKIGIVPQDHVFFFWRGKSNCVKEVEKLQENERKGDCNSKNLEKKEPRTLMLQTQIMKLLCV\n",
      "  Score=402\n",
      "\n",
      "PSQDTHHTQELLVVQGSLEVDPAQAWLSRPALLVRAASHYEGAGQILIRQEKGTLDALLAGEQDPWTVSSEGVHTPPGSLARSSSLCCSRRSIVPSSPQPMDAVRIMAKDLVLTRRYVRKFVLMRYTWRNVAERTEKAYDRVSVEAVLPMSKIVRVLNLWQKKWSVQNRSLCAVKFLRLEDFSPQRDRFQAEGSLKKTSRILNLQALSALFIWPQHSYKSPQRDRFQAEGSLKKTSRILNLQVLKKILRSFMKLYHSLVMCLRLRTKLEKALSALFIWPQHSYKTASAFFAKARATFLVPRREGSRGFEEKCRLGIRLVQFERLRPVNQNKTVKKKYLLCANKIGIVPQDHVFFFWRGKSNCVKEVEKLQENERKGDCNSKNLEKKEPRTLMLQTQIMK-LCV\n",
      "||||||||||||||||||||||||||||||||||||||||||||||||||||||||||||||||||||||||||||||||||||||||||||||||||||||||||||||||||||||||||||||||||||||||||||||||||||||||||||||||||||||||||||||||||||||||||||||||||||||||||||||||||||||||||||||||||||||||||||||||||||||||||||||||||||||||||||||||||||||||||||||||||||||||||||||||||||||||||||||||||||||||||||||||||||||||||||||||||||||||||||||||||||||||||||||||||||||||||||||| |||\n",
      "PSQDTHHTQELLVVQGSLEVDPAQAWLSRPALLVRAASHYEGAGQILIRQEKGTLDALLAGEQDPWTVSSEGVHTPPGSLARSSSLCCSRRSIVPSSPQPMDAVRIMAKDLVLTRRYVRKFVLMRYTWRNVAERTEKAYDRVSVEAVLPMSKIVRVLNLWQKKWSVQNRSLCAVKFLRLEDFSPQRDRFQAEGSLKKTSRILNLQALSALFIWPQHSYKSPQRDRFQAEGSLKKTSRILNLQVLKKILRSFMKLYHSLVMCLRLRTKLEKALSALFIWPQHSYKTASAFFAKARATFLVPRREGSRGFEEKCRLGIRLVQFERLRPVNQNKTVKKKYLLCANKIGIVPQDHVFFFWRGKSNCVKEVEKLQENERKGDCNSKNLEKKEPRTLMLQTQIMKLLCV\n",
      "  Score=402\n",
      "\n"
     ]
    }
   ],
   "source": [
    "from Bio.Seq import Seq\n",
    "from Bio import pairwise2\n",
    "from Bio.pairwise2 import format_alignment \n",
    "from Bio.Alphabet import generic_dna\n",
    "from pyfaidx import Fasta\n",
    "\n",
    "protein = Fasta(input_file_name)\n",
    "opt_dna = Fasta(output_file_name)\n",
    "\n",
    "failed_pairs=check_integrity(input_file_name, output_file_name)\n",
    "\n",
    "check_alignment(protein, opt_dna, failed_pairs)"
   ]
  },
  {
   "cell_type": "code",
   "execution_count": 10,
   "metadata": {},
   "outputs": [],
   "source": [
    "## re-Run codon_harmony for the mismatch pair\n",
    "def re_run_codon_harmony(failed_pairs):    \n",
    "    failed_pair_name = []\n",
    "    for j in range(len(failed_pairs)):\n",
    "        failed_pair_name.append(protein[failed_pairs[j]].name)\n",
    "    \n",
    "#     input_rerun_file_name = 'input_rerun_K0001_K0002.fasta'\n",
    "#     output_rerun_file_name = 'output_rerun_K0001_K0002.fasta'\n",
    "#     reform_output_rerun_file_name = 'reform_output_rerun_K0001_K0002.fasta'\n",
    "    \n",
    "    try:        \n",
    "        os.rename(input_rerun_file_name, input_rerun_file_name+'_backup')\n",
    "        os.rename(output_rerun_file_name, output_rerun_file_name+'_backup')\n",
    "        os.rename(reform_output_rerun_file_name, reform_output_rerun_file_name+'_backup')\n",
    "    except FileNotFoundError:\n",
    "        pass\n",
    "\n",
    "    codon_harmony_cmd = \"codon_harmony --input \" + input_rerun_file_name + \" --output \" \\\n",
    "    + output_rerun_file_name + \" --host 9606 --verbose 1 --remove-splice-sites --no-remove-start-sites --cycles 10 --max-relax 0.2\"\n",
    "    \n",
    "    for k in failed_pair_name:\n",
    "        subset_cmd = \"cat input_K0001_K0002.fasta | grep -A1 \" + k + \" >> \" + input_rerun_file_name + \" ; \\n\"\n",
    "    \n",
    "    cmd = subset_cmd + codon_harmony_cmd\n",
    "\n",
    "    process = subprocess.Popen(cmd, shell=True,\n",
    "                         stdout=subprocess.PIPE, \n",
    "                         stderr=subprocess.PIPE)\n",
    "    stdout, stderr = process.communicate()\n",
    "    stdout, stderr\n",
    "    process.wait()\n",
    "\n",
    "    fasta_obj1 = Fasta(input_rerun_file_name)\n",
    "    fasta_obj2 = Fasta(output_rerun_file_name)\n",
    "\n",
    "    rerun_failed_pairs=check_integrity(input_rerun_file_name, output_rerun_file_name)\n",
    "    check_alignment(fasta_obj1, fasta_obj2, rerun_failed_pairs)\n",
    "    \n",
    "    d = dict();\n",
    "    d['pairs'] = rerun_failed_pairs\n",
    "    d['obj'] = fasta_obj2\n",
    "    return d"
   ]
  },
  {
   "cell_type": "code",
   "execution_count": 11,
   "metadata": {},
   "outputs": [
    {
     "name": "stdout",
     "output_type": "stream",
     "text": [
      "K0002_TMG5\n",
      "protein_seq == opt_dna_seq :  False\n",
      "Integrity:  [False]\n",
      "\n",
      " >>Failed pair:  K0002_TMG5\n",
      "PSQDTHHTQELLVVQGSLEVDPAQAWLSRPALLVRAASHYEGAGQILIRQEKGTLDALLAGEQDPWTVSSEGVHTPPGSLARSSSLCCSRRSIVPSSPQPMDAVRIMAKDLVLTRRYVRKFVLMRYTWRNVAERTEKAYDRVSVEAVLPMSKIVRVLNLWQKKWSVQNRSLCAVKFLRLEDFSPQRDRFQAEGSLKKTSRILNLQALSALFIWPQHSYKSPQRDRFQAEGSLKKTSRILNLQVLKKILRSFMKLYHSLVMCLRLRTKLEKALSALFIWPQHSYKTASAFFAKARATFLVPRREGSRGFEEKCRLGIRLVQFERLRPVNQNKTVKKKYLLCANKIGIVPQDHVFFFWRGKSNCVKEVEKLQENERKGDCNSKNLEKKEPRTLMLQTQIMKLCV-\n",
      "|||||||||||||||||||||||||||||||||||||||||||||||||||||||||||||||||||||||||||||||||||||||||||||||||||||||||||||||||||||||||||||||||||||||||||||||||||||||||||||||||||||||||||||||||||||||||||||||||||||||||||||||||||||||||||||||||||||||||||||||||||||||||||||||||||||||||||||||||||||||||||||||||||||||||||||||||||||||||||||||||||||||||||||||||||||||||||||||||||||||||||||||||||||||||||||||||||||||||||||||||| \n",
      "PSQDTHHTQELLVVQGSLEVDPAQAWLSRPALLVRAASHYEGAGQILIRQEKGTLDALLAGEQDPWTVSSEGVHTPPGSLARSSSLCCSRRSIVPSSPQPMDAVRIMAKDLVLTRRYVRKFVLMRYTWRNVAERTEKAYDRVSVEAVLPMSKIVRVLNLWQKKWSVQNRSLCAVKFLRLEDFSPQRDRFQAEGSLKKTSRILNLQALSALFIWPQHSYKSPQRDRFQAEGSLKKTSRILNLQVLKKILRSFMKLYHSLVMCLRLRTKLEKALSALFIWPQHSYKTASAFFAKARATFLVPRREGSRGFEEKCRLGIRLVQFERLRPVNQNKTVKKKYLLCANKIGIVPQDHVFFFWRGKSNCVKEVEKLQENERKGDCNSKNLEKKEPRTLMLQTQIMKLCVV\n",
      "  Score=402\n",
      "\n",
      "PSQDTHHTQELLVVQGSLEVDPAQAWLSRPALLVRAASHYEGAGQILIRQEKGTLDALLAGEQDPWTVSSEGVHTPPGSLARSSSLCCSRRSIVPSSPQPMDAVRIMAKDLVLTRRYVRKFVLMRYTWRNVAERTEKAYDRVSVEAVLPMSKIVRVLNLWQKKWSVQNRSLCAVKFLRLEDFSPQRDRFQAEGSLKKTSRILNLQALSALFIWPQHSYKSPQRDRFQAEGSLKKTSRILNLQVLKKILRSFMKLYHSLVMCLRLRTKLEKALSALFIWPQHSYKTASAFFAKARATFLVPRREGSRGFEEKCRLGIRLVQFERLRPVNQNKTVKKKYLLCANKIGIVPQDHVFFFWRGKSNCVKEVEKLQENERKGDCNSKNLEKKEPRTLMLQTQIMKLC-V\n",
      "||||||||||||||||||||||||||||||||||||||||||||||||||||||||||||||||||||||||||||||||||||||||||||||||||||||||||||||||||||||||||||||||||||||||||||||||||||||||||||||||||||||||||||||||||||||||||||||||||||||||||||||||||||||||||||||||||||||||||||||||||||||||||||||||||||||||||||||||||||||||||||||||||||||||||||||||||||||||||||||||||||||||||||||||||||||||||||||||||||||||||||||||||||||||||||||||||||||||||||||||| |\n",
      "PSQDTHHTQELLVVQGSLEVDPAQAWLSRPALLVRAASHYEGAGQILIRQEKGTLDALLAGEQDPWTVSSEGVHTPPGSLARSSSLCCSRRSIVPSSPQPMDAVRIMAKDLVLTRRYVRKFVLMRYTWRNVAERTEKAYDRVSVEAVLPMSKIVRVLNLWQKKWSVQNRSLCAVKFLRLEDFSPQRDRFQAEGSLKKTSRILNLQALSALFIWPQHSYKSPQRDRFQAEGSLKKTSRILNLQVLKKILRSFMKLYHSLVMCLRLRTKLEKALSALFIWPQHSYKTASAFFAKARATFLVPRREGSRGFEEKCRLGIRLVQFERLRPVNQNKTVKKKYLLCANKIGIVPQDHVFFFWRGKSNCVKEVEKLQENERKGDCNSKNLEKKEPRTLMLQTQIMKLCVV\n",
      "  Score=402\n",
      "\n",
      "K0002_TMG5\n",
      "protein_seq == opt_dna_seq :  False\n",
      "Integrity:  [False]\n",
      "\n",
      " >>Failed pair:  K0002_TMG5\n",
      "PSQDTHHTQELLVVQGSLEVDPAQAWLSRPALLVRAASHYEGAGQILIRQEKGTLDALLAGEQDPWTVSSEGVHTPPGSLARSSSLCCSRRSIVPSSPQPMDAVRIMAKDLVLTRRYVRKFVLMRYTWRNVAERTEKAYDRVSVEAVLPMSKIVRVLNLWQKKWSVQNRSLCAVKFLRLEDFSPQRDRFQAEGSLKKTSRILNLQALSALFIWPQHSYKSPQRDRFQAEGSLKKTSRILNLQVLKKILRSFMKLYHSLVMCLRLRTKLEKALSALFIWPQHSYKTASAFFAKARATFLVPRREGSRGFEEKCRLGIRLVQFERLRPVNQNKTVKKKYLLCANKIGIVPQDHVFFFWRGKSNCVKEVEKLQENERKGDCNSKNLEKKEPRTLMLQTQIMKLCV-\n",
      "|||||||||||||||||||||||||||||||||||||||||||||||||||||||||||||||||||||||||||||||||||||||||||||||||||||||||||||||||||||||||||||||||||||||||||||||||||||||||||||||||||||||||||||||||||||||||||||||||||||||||||||||||||||||||||||||||||||||||||||||||||||||||||||||||||||||||||||||||||||||||||||||||||||||||||||||||||||||||||||||||||||||||||||||||||||||||||||||||||||||||||||||||||||||||||||||||||||||||||||||||| \n",
      "PSQDTHHTQELLVVQGSLEVDPAQAWLSRPALLVRAASHYEGAGQILIRQEKGTLDALLAGEQDPWTVSSEGVHTPPGSLARSSSLCCSRRSIVPSSPQPMDAVRIMAKDLVLTRRYVRKFVLMRYTWRNVAERTEKAYDRVSVEAVLPMSKIVRVLNLWQKKWSVQNRSLCAVKFLRLEDFSPQRDRFQAEGSLKKTSRILNLQALSALFIWPQHSYKSPQRDRFQAEGSLKKTSRILNLQVLKKILRSFMKLYHSLVMCLRLRTKLEKALSALFIWPQHSYKTASAFFAKARATFLVPRREGSRGFEEKCRLGIRLVQFERLRPVNQNKTVKKKYLLCANKIGIVPQDHVFFFWRGKSNCVKEVEKLQENERKGDCNSKNLEKKEPRTLMLQTQIMKLCVV\n",
      "  Score=402\n",
      "\n",
      "PSQDTHHTQELLVVQGSLEVDPAQAWLSRPALLVRAASHYEGAGQILIRQEKGTLDALLAGEQDPWTVSSEGVHTPPGSLARSSSLCCSRRSIVPSSPQPMDAVRIMAKDLVLTRRYVRKFVLMRYTWRNVAERTEKAYDRVSVEAVLPMSKIVRVLNLWQKKWSVQNRSLCAVKFLRLEDFSPQRDRFQAEGSLKKTSRILNLQALSALFIWPQHSYKSPQRDRFQAEGSLKKTSRILNLQVLKKILRSFMKLYHSLVMCLRLRTKLEKALSALFIWPQHSYKTASAFFAKARATFLVPRREGSRGFEEKCRLGIRLVQFERLRPVNQNKTVKKKYLLCANKIGIVPQDHVFFFWRGKSNCVKEVEKLQENERKGDCNSKNLEKKEPRTLMLQTQIMKLC-V\n",
      "||||||||||||||||||||||||||||||||||||||||||||||||||||||||||||||||||||||||||||||||||||||||||||||||||||||||||||||||||||||||||||||||||||||||||||||||||||||||||||||||||||||||||||||||||||||||||||||||||||||||||||||||||||||||||||||||||||||||||||||||||||||||||||||||||||||||||||||||||||||||||||||||||||||||||||||||||||||||||||||||||||||||||||||||||||||||||||||||||||||||||||||||||||||||||||||||||||||||||||||||| |\n",
      "PSQDTHHTQELLVVQGSLEVDPAQAWLSRPALLVRAASHYEGAGQILIRQEKGTLDALLAGEQDPWTVSSEGVHTPPGSLARSSSLCCSRRSIVPSSPQPMDAVRIMAKDLVLTRRYVRKFVLMRYTWRNVAERTEKAYDRVSVEAVLPMSKIVRVLNLWQKKWSVQNRSLCAVKFLRLEDFSPQRDRFQAEGSLKKTSRILNLQALSALFIWPQHSYKSPQRDRFQAEGSLKKTSRILNLQVLKKILRSFMKLYHSLVMCLRLRTKLEKALSALFIWPQHSYKTASAFFAKARATFLVPRREGSRGFEEKCRLGIRLVQFERLRPVNQNKTVKKKYLLCANKIGIVPQDHVFFFWRGKSNCVKEVEKLQENERKGDCNSKNLEKKEPRTLMLQTQIMKLCVV\n",
      "  Score=402\n",
      "\n",
      "K0002_TMG5\n",
      "protein_seq == opt_dna_seq :  False\n",
      "Integrity:  [False]\n",
      "\n",
      " >>Failed pair:  K0002_TMG5\n",
      "PSQDTHHTQELLVVQGSLEVDPAQAWLSRPALLVRAASHYEGAGQILIRQEKGTLDALLAGEQDPWTVSSEGVHTPPGSLARSSSLCCSRRSIVPSSPQPMDAVRIMAKDLVLTRRYVRKFVLMRYTWRNVAERTEKAYDRVSVEAVLPMSKIVRVLNLWQKKWSVQNRSLCAVKFLRLEDFSPQRDRFQAEGSLKKTSRILNLQALSALFIWPQHSYKSPQRDRFQAEGSLKKTSRILNLQVLKKILRSFMKLYHSLVMCLRLRTKLEKALSALFIWPQHSYKTASAFFAKARATFLVPRREGSRGFEEKCRLGIRLVQFERLRPVNQNKTVKKKYLLCANKIGIVPQDHVFFFWRGKSNCVKEVEKLQENERKGDCNSKNLEKKEPRTLMLQTQIMKLC--V\n",
      "||||||||||||||||||||||||||||||||||||||||||||||||||||||||||||||||||||||||||||||||||||||||||||||||||||||||||||||||||||||||||||||||||||||||||||||||||||||||||||||||||||||||||||||||||||||||||||||||||||||||||||||||||||||||||||||||||||||||||||||||||||||||||||||||||||||||||||||||||||||||||||||||||||||||||||||||||||||||||||||||||||||||||||||||||||||||||||||||||||||||||||||||||||||||||||||||||||||||||||||| |  |\n",
      "PSQDTHHTQELLVVQGSLEVDPAQAWLSRPALLVRAASHYEGAGQILIRQEKGTLDALLAGEQDPWTVSSEGVHTPPGSLARSSSLCCSRRSIVPSSPQPMDAVRIMAKDLVLTRRYVRKFVLMRYTWRNVAERTEKAYDRVSVEAVLPMSKIVRVLNLWQKKWSVQNRSLCAVKFLRLEDFSPQRDRFQAEGSLKKTSRILNLQALSALFIWPQHSYKSPQRDRFQAEGSLKKTSRILNLQVLKKILRSFMKLYHSLVMCLRLRTKLEKALSALFIWPQHSYKTASAFFAKARATFLVPRREGSRGFEEKCRLGIRLVQFERLRPVNQNKTVKKKYLLCANKIGIVPQDHVFFFWRGKSNCVKEVEKLQENERKGDCNSKNLEKKEPRTLMLQTQIMK-CCLV\n",
      "  Score=401\n",
      "\n",
      "PSQDTHHTQELLVVQGSLEVDPAQAWLSRPALLVRAASHYEGAGQILIRQEKGTLDALLAGEQDPWTVSSEGVHTPPGSLARSSSLCCSRRSIVPSSPQPMDAVRIMAKDLVLTRRYVRKFVLMRYTWRNVAERTEKAYDRVSVEAVLPMSKIVRVLNLWQKKWSVQNRSLCAVKFLRLEDFSPQRDRFQAEGSLKKTSRILNLQALSALFIWPQHSYKSPQRDRFQAEGSLKKTSRILNLQVLKKILRSFMKLYHSLVMCLRLRTKLEKALSALFIWPQHSYKTASAFFAKARATFLVPRREGSRGFEEKCRLGIRLVQFERLRPVNQNKTVKKKYLLCANKIGIVPQDHVFFFWRGKSNCVKEVEKLQENERKGDCNSKNLEKKEPRTLMLQTQIMKL-C-V\n",
      "|||||||||||||||||||||||||||||||||||||||||||||||||||||||||||||||||||||||||||||||||||||||||||||||||||||||||||||||||||||||||||||||||||||||||||||||||||||||||||||||||||||||||||||||||||||||||||||||||||||||||||||||||||||||||||||||||||||||||||||||||||||||||||||||||||||||||||||||||||||||||||||||||||||||||||||||||||||||||||||||||||||||||||||||||||||||||||||||||||||||||||||||||||||||||||||||||||||||||||||||  | |\n",
      "PSQDTHHTQELLVVQGSLEVDPAQAWLSRPALLVRAASHYEGAGQILIRQEKGTLDALLAGEQDPWTVSSEGVHTPPGSLARSSSLCCSRRSIVPSSPQPMDAVRIMAKDLVLTRRYVRKFVLMRYTWRNVAERTEKAYDRVSVEAVLPMSKIVRVLNLWQKKWSVQNRSLCAVKFLRLEDFSPQRDRFQAEGSLKKTSRILNLQALSALFIWPQHSYKSPQRDRFQAEGSLKKTSRILNLQVLKKILRSFMKLYHSLVMCLRLRTKLEKALSALFIWPQHSYKTASAFFAKARATFLVPRREGSRGFEEKCRLGIRLVQFERLRPVNQNKTVKKKYLLCANKIGIVPQDHVFFFWRGKSNCVKEVEKLQENERKGDCNSKNLEKKEPRTLMLQTQIMK-CCLV\n",
      "  Score=401\n",
      "\n",
      "PSQDTHHTQELLVVQGSLEVDPAQAWLSRPALLVRAASHYEGAGQILIRQEKGTLDALLAGEQDPWTVSSEGVHTPPGSLARSSSLCCSRRSIVPSSPQPMDAVRIMAKDLVLTRRYVRKFVLMRYTWRNVAERTEKAYDRVSVEAVLPMSKIVRVLNLWQKKWSVQNRSLCAVKFLRLEDFSPQRDRFQAEGSLKKTSRILNLQALSALFIWPQHSYKSPQRDRFQAEGSLKKTSRILNLQVLKKILRSFMKLYHSLVMCLRLRTKLEKALSALFIWPQHSYKTASAFFAKARATFLVPRREGSRGFEEKCRLGIRLVQFERLRPVNQNKTVKKKYLLCANKIGIVPQDHVFFFWRGKSNCVKEVEKLQENERKGDCNSKNLEKKEPRTLMLQTQIMKLC-V\n",
      "|||||||||||||||||||||||||||||||||||||||||||||||||||||||||||||||||||||||||||||||||||||||||||||||||||||||||||||||||||||||||||||||||||||||||||||||||||||||||||||||||||||||||||||||||||||||||||||||||||||||||||||||||||||||||||||||||||||||||||||||||||||||||||||||||||||||||||||||||||||||||||||||||||||||||||||||||||||||||||||||||||||||||||||||||||||||||||||||||||||||||||||||||||||||||||||||||||||||||||||||.| |\n",
      "PSQDTHHTQELLVVQGSLEVDPAQAWLSRPALLVRAASHYEGAGQILIRQEKGTLDALLAGEQDPWTVSSEGVHTPPGSLARSSSLCCSRRSIVPSSPQPMDAVRIMAKDLVLTRRYVRKFVLMRYTWRNVAERTEKAYDRVSVEAVLPMSKIVRVLNLWQKKWSVQNRSLCAVKFLRLEDFSPQRDRFQAEGSLKKTSRILNLQALSALFIWPQHSYKSPQRDRFQAEGSLKKTSRILNLQVLKKILRSFMKLYHSLVMCLRLRTKLEKALSALFIWPQHSYKTASAFFAKARATFLVPRREGSRGFEEKCRLGIRLVQFERLRPVNQNKTVKKKYLLCANKIGIVPQDHVFFFWRGKSNCVKEVEKLQENERKGDCNSKNLEKKEPRTLMLQTQIMKCCLV\n",
      "  Score=401\n",
      "\n",
      "PSQDTHHTQELLVVQGSLEVDPAQAWLSRPALLVRAASHYEGAGQILIRQEKGTLDALLAGEQDPWTVSSEGVHTPPGSLARSSSLCCSRRSIVPSSPQPMDAVRIMAKDLVLTRRYVRKFVLMRYTWRNVAERTEKAYDRVSVEAVLPMSKIVRVLNLWQKKWSVQNRSLCAVKFLRLEDFSPQRDRFQAEGSLKKTSRILNLQALSALFIWPQHSYKSPQRDRFQAEGSLKKTSRILNLQVLKKILRSFMKLYHSLVMCLRLRTKLEKALSALFIWPQHSYKTASAFFAKARATFLVPRREGSRGFEEKCRLGIRLVQFERLRPVNQNKTVKKKYLLCANKIGIVPQDHVFFFWRGKSNCVKEVEKLQENERKGDCNSKNLEKKEPRTLMLQTQIMK--LCV\n",
      "|||||||||||||||||||||||||||||||||||||||||||||||||||||||||||||||||||||||||||||||||||||||||||||||||||||||||||||||||||||||||||||||||||||||||||||||||||||||||||||||||||||||||||||||||||||||||||||||||||||||||||||||||||||||||||||||||||||||||||||||||||||||||||||||||||||||||||||||||||||||||||||||||||||||||||||||||||||||||||||||||||||||||||||||||||||||||||||||||||||||||||||||||||||||||||||||||||||||||||||||  | |\n",
      "PSQDTHHTQELLVVQGSLEVDPAQAWLSRPALLVRAASHYEGAGQILIRQEKGTLDALLAGEQDPWTVSSEGVHTPPGSLARSSSLCCSRRSIVPSSPQPMDAVRIMAKDLVLTRRYVRKFVLMRYTWRNVAERTEKAYDRVSVEAVLPMSKIVRVLNLWQKKWSVQNRSLCAVKFLRLEDFSPQRDRFQAEGSLKKTSRILNLQALSALFIWPQHSYKSPQRDRFQAEGSLKKTSRILNLQVLKKILRSFMKLYHSLVMCLRLRTKLEKALSALFIWPQHSYKTASAFFAKARATFLVPRREGSRGFEEKCRLGIRLVQFERLRPVNQNKTVKKKYLLCANKIGIVPQDHVFFFWRGKSNCVKEVEKLQENERKGDCNSKNLEKKEPRTLMLQTQIMKCCL-V\n",
      "  Score=401\n",
      "\n"
     ]
    },
    {
     "name": "stdout",
     "output_type": "stream",
     "text": [
      "K0002_TMG5\n",
      "protein_seq == opt_dna_seq :  True\n",
      "Integrity:  [True]\n"
     ]
    }
   ],
   "source": [
    "## if there is wrong, rerun codon_harmony for the wrong pair and merge it with previous result that was correct.\n",
    "if failed_pairs:\n",
    "    ## collect correct output to \"first_round_correct_output.fasta\" file\n",
    "    f = open(\"first_round_correct_output.fasta\", \"w\")\n",
    "    for i in range(len(protein.keys())):\n",
    "\n",
    "        if i in failed_pairs:\n",
    "            pass\n",
    "        else:\n",
    "            f.write(\">\"+opt_dna[i].name+\"\\n\")\n",
    "            f.write(opt_dna[i][0:].seq+\"\\n\")\n",
    "    f.close()\n",
    "\n",
    "    input_rerun_file_name = 'input_rerun_K0001_K0002.fasta'\n",
    "    output_rerun_file_name = 'output_rerun_K0001_K0002.fasta'\n",
    "    reform_output_rerun_file_name = 'reform_output_rerun_K0001_K0002.fasta'\n",
    "    \n",
    "    rerun_failed_pairs=failed_pairs\n",
    "    \n",
    "    ## repeat codon_harmony until there is no mismatch\n",
    "    while rerun_failed_pairs:\n",
    "        d = re_run_codon_harmony(failed_pairs)\n",
    "        rerun_failed_pairs = d['pairs']\n",
    "        fasta_obj2 = d['obj']\n",
    "        \n",
    "    ## merge outputs from first round and second round\n",
    "    reform_f=open(reform_output_rerun_file_name, \"w\")\n",
    "    for i in range(len(fasta_obj2.keys())):    \n",
    "        reform_f.write(\"\\n>\"+fasta_obj2[i].name+\"\\n\")\n",
    "        reform_f.write(fasta_obj2[i][0:].seq+\"\\n\")\n",
    "    reform_f.close()\n",
    "\n",
    "    if not rerun_failed_pairs:\n",
    "\n",
    "        final_output_cmd = \"cat \" + \"first_round_correct_output.fasta\" + \" \" + reform_output_rerun_file_name + \" > final_output.fasta\"\n",
    "    #     print(final_output_cmd)\n",
    "        process = subprocess.Popen(final_output_cmd, shell=True)\n",
    "        process.wait()\n"
   ]
  },
  {
   "cell_type": "code",
   "execution_count": null,
   "metadata": {},
   "outputs": [],
   "source": []
  }
 ],
 "metadata": {
  "kernelspec": {
   "display_name": "Python 3",
   "language": "python",
   "name": "python3"
  },
  "language_info": {
   "codemirror_mode": {
    "name": "ipython",
    "version": 3
   },
   "file_extension": ".py",
   "mimetype": "text/x-python",
   "name": "python",
   "nbconvert_exporter": "python",
   "pygments_lexer": "ipython3",
   "version": "3.7.3"
  }
 },
 "nbformat": 4,
 "nbformat_minor": 2
}
