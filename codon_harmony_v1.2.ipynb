{
 "cells": [
  {
   "cell_type": "code",
   "execution_count": 18,
   "metadata": {},
   "outputs": [
    {
     "name": "stdout",
     "output_type": "stream",
     "text": [
      "/mnt/dev3-1/apps2/tk/codon_harmony/K0001_K0002\r\n"
     ]
    }
   ],
   "source": [
    "path='/mnt/dev3-1/apps1/tk/codon_harmony/K0001_K0002'\n",
    "!cd $path\n",
    "!pwd"
   ]
  },
  {
   "cell_type": "code",
   "execution_count": 19,
   "metadata": {},
   "outputs": [],
   "source": [
    "input_file_name = 'input_K0001_K0002.fasta'\n",
    "output_file_name = 'output_K0001_K0002.fasta'"
   ]
  },
  {
   "cell_type": "code",
   "execution_count": 20,
   "metadata": {},
   "outputs": [
    {
     "data": {
      "text/plain": [
       "'codon_harmony --input input_K0001_K0002.fasta --output output_K0001_K0002.fasta --host 9606 --verbose 1 --remove-splice-sites --no-remove-start-sites --cycles 10 --max-relax 0.2'"
      ]
     },
     "execution_count": 20,
     "metadata": {},
     "output_type": "execute_result"
    }
   ],
   "source": [
    "codon_harmony_cmd = \"codon_harmony --input \" + input_file_name + \" --output \" \\\n",
    "+ output_file_name + \" --host 9606 --verbose 1 --remove-splice-sites --no-remove-start-sites \\\n",
    "--cycles 10 --max-relax 0.2\"\n",
    "codon_harmony_cmd"
   ]
  },
  {
   "cell_type": "code",
   "execution_count": 4,
   "metadata": {},
   "outputs": [
    {
     "data": {
      "text/plain": [
       "0"
      ]
     },
     "execution_count": 4,
     "metadata": {},
     "output_type": "execute_result"
    }
   ],
   "source": [
    "## Run codon_harmony\n",
    "import subprocess\n",
    "process = subprocess.Popen(codon_harmony_cmd, shell=True,\n",
    "                     stdout=subprocess.PIPE, \n",
    "                     stderr=subprocess.PIPE)\n",
    "stdout, stderr = process.communicate()\n",
    "stdout, stderr\n",
    "process.wait()"
   ]
  },
  {
   "cell_type": "code",
   "execution_count": 5,
   "metadata": {},
   "outputs": [],
   "source": [
    "def check_integrity(file1,file2):\n",
    "    fasta_obj1=Fasta(file1)\n",
    "    fasta_obj2=Fasta(file2)\n",
    "    \n",
    "    TrueFalse = []\n",
    "    for line in fasta_obj1.keys():\n",
    "        integrity = fasta_obj1[line][0:].seq == Seq(fasta_obj2[line][0:].seq).translate()\n",
    "        print(fasta_obj1[line].name)\n",
    "        print(\"protein_seq == opt_dna_seq : \",integrity)\n",
    "        TrueFalse.append(integrity)\n",
    "    print('Integrity: ', TrueFalse)\n",
    "    return [i for i,x in enumerate(TrueFalse) if TrueFalse[i]==False]"
   ]
  },
  {
   "cell_type": "code",
   "execution_count": 6,
   "metadata": {},
   "outputs": [],
   "source": [
    "def check_alignment(fasta_obj1, fasta_obj2, failed_pairs):\n",
    "    \n",
    "    for failed_pair in failed_pairs:\n",
    "\n",
    "        failed_protein=fasta_obj1[failed_pair][0:].seq\n",
    "        failed_opt_dna=Seq(fasta_obj2[failed_pair][0:].seq).translate()\n",
    "        alignments = pairwise2.align.globalxx(failed_protein, failed_opt_dna)\n",
    "        print('\\n >>Failed pair: ',fasta_obj1[failed_pair].name)\n",
    "        for alignment in alignments: \n",
    "            print(format_alignment(*alignment)) "
   ]
  },
  {
   "cell_type": "code",
   "execution_count": 7,
   "metadata": {
    "scrolled": true
   },
   "outputs": [
    {
     "name": "stdout",
     "output_type": "stream",
     "text": [
      "K0001_TMG1\n",
      "protein_seq == opt_dna_seq :  True\n",
      "K0001_TMG2\n",
      "protein_seq == opt_dna_seq :  True\n",
      "K0001_TMG3\n",
      "protein_seq == opt_dna_seq :  True\n",
      "K0001_TMG4\n",
      "protein_seq == opt_dna_seq :  True\n",
      "K0001_TMG5\n",
      "protein_seq == opt_dna_seq :  True\n",
      "K0002_TMG1\n",
      "protein_seq == opt_dna_seq :  True\n",
      "K0002_TMG2\n",
      "protein_seq == opt_dna_seq :  True\n",
      "K0002_TMG3\n",
      "protein_seq == opt_dna_seq :  True\n",
      "K0002_TMG4\n",
      "protein_seq == opt_dna_seq :  True\n",
      "K0002_TMG5\n",
      "protein_seq == opt_dna_seq :  True\n",
      "K0002_TMG6\n",
      "protein_seq == opt_dna_seq :  True\n",
      "K0002_TMG7\n",
      "protein_seq == opt_dna_seq :  True\n",
      "Integrity:  [True, True, True, True, True, True, True, True, True, True, True, True]\n"
     ]
    }
   ],
   "source": [
    "from Bio.Seq import Seq\n",
    "from Bio import pairwise2\n",
    "from Bio.pairwise2 import format_alignment \n",
    "from Bio.Alphabet import generic_dna\n",
    "from pyfaidx import Fasta\n",
    "\n",
    "protein = Fasta(input_file_name)\n",
    "opt_dna = Fasta(output_file_name)\n",
    "\n",
    "failed_pairs=check_integrity(input_file_name, output_file_name)\n",
    "\n",
    "check_alignment(protein, opt_dna, failed_pairs)"
   ]
  },
  {
   "cell_type": "code",
   "execution_count": 8,
   "metadata": {},
   "outputs": [],
   "source": [
    "## if there is wrong, rerun codon_harmony for the wrong pair and merge it with previous result that was correct.\n",
    "if failed_pairs:\n",
    "    ## collect correct output\n",
    "    f = open(\"first_round_correct_output.fasta\", \"w\")\n",
    "    for i in range(len(protein.keys())):\n",
    "\n",
    "        if i in failed_pairs:\n",
    "            pass\n",
    "        else:\n",
    "            f.write(\">\"+opt_dna[i].name+\"\\n\")\n",
    "            f.write(opt_dna[i][0:].seq+\"\\n\")\n",
    "    f.close()\n",
    "    \n",
    "    ## re-Run codon_harmony\n",
    "    failed_pair_name=protein[failed_pair].name\n",
    "    input_rerun_file_name = 'input_rerun_K0001_K0002.fasta'\n",
    "    output_rerun_file_name = 'output_rerun_K0001_K0002.fasta'\n",
    "    reform_output_rerun_file_name = 'reform_output_rerun_K0001_K0002.fasta'\n",
    "\n",
    "    codon_harmony_cmd = \"codon_harmony --input \" + input_rerun_file_name + \" --output \" \\\n",
    "    + output_rerun_file_name + \" --host 9606 --verbose 1 --remove-splice-sites --no-remove-start-sites --cycles 10 --max-relax 0.2\"\n",
    "\n",
    "    rerun_cmd = \"cat input_K0001_K0002.fasta | grep -A1 \" + failed_pair_name + \" > \" + input_rerun_file_name + \"\\n\"\n",
    "    rerun_cmd = rerun_cmd + codon_harmony_cmd\n",
    "\n",
    "    process = subprocess.Popen(rerun_cmd, shell=True,\n",
    "                         stdout=subprocess.PIPE, \n",
    "                         stderr=subprocess.PIPE)\n",
    "    stdout, stderr = process.communicate()\n",
    "    stdout, stderr\n",
    "    process.wait()\n",
    "\n",
    "    fasta_obj1 = Fasta(input_rerun_file_name)\n",
    "    fasta_obj2 = Fasta(output_rerun_file_name)\n",
    "\n",
    "    rerun_failed_pairs=check_integrity(input_rerun_file_name, output_rerun_file_name)\n",
    "    check_alignment(fasta_obj1, fasta_obj2, rerun_failed_pairs)\n",
    "\n",
    "    ## merge outputs from first round and second round\n",
    "    reform_f=open(reform_output_rerun_file_name, \"w\")\n",
    "    for i in range(len(fasta_obj2.keys())):    \n",
    "        reform_f.write(\"\\n>\"+fasta_obj2[i].name+\"\\n\")\n",
    "        reform_f.write(fasta_obj2[i][0:].seq+\"\\n\")\n",
    "    reform_f.close()\n",
    "\n",
    "    if not rerun_failed_pairs:\n",
    "\n",
    "        final_output_cmd = \"cat \" + \"first_round_correct_output.fasta\" + \" \" + reform_output_rerun_file_name + \" > final_output.fasta\"\n",
    "    #     print(final_output_cmd)\n",
    "        process = subprocess.Popen(final_output_cmd, shell=True)\n",
    "        process.wait()\n"
   ]
  },
  {
   "cell_type": "code",
   "execution_count": null,
   "metadata": {},
   "outputs": [],
   "source": []
  },
  {
   "cell_type": "code",
   "execution_count": null,
   "metadata": {},
   "outputs": [],
   "source": []
  }
 ],
 "metadata": {
  "kernelspec": {
   "display_name": "Python 3",
   "language": "python",
   "name": "python3"
  },
  "language_info": {
   "codemirror_mode": {
    "name": "ipython",
    "version": 3
   },
   "file_extension": ".py",
   "mimetype": "text/x-python",
   "name": "python",
   "nbconvert_exporter": "python",
   "pygments_lexer": "ipython3",
   "version": "3.7.3"
  }
 },
 "nbformat": 4,
 "nbformat_minor": 2
}
